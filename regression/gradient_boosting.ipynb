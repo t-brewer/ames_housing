{
 "cells": [
  {
   "cell_type": "code",
   "execution_count": 1,
   "metadata": {
    "collapsed": true
   },
   "outputs": [],
   "source": [
    "# Import libraries\n",
    "\n",
    "# Basic\n",
    "import numpy as np\n",
    "import pandas as pd\n",
    "\n",
    "# Plotting\n",
    "import seaborn as sns\n",
    "import matplotlib.pyplot as plt\n",
    "%matplotlib inline\n",
    "\n",
    "# sklearn\n",
    "from sklearn.preprocessing import StandardScaler, Imputer\n",
    "from sklearn.model_selection import cross_val_score, train_test_split, GridSearchCV\n",
    "from sklearn.linear_model import LinearRegression, Ridge, ElasticNet\n",
    "from sklearn.feature_selection import RFECV, SelectKBest\n",
    "from sklearn.ensemble import GradientBoostingRegressor\n",
    "\n",
    "\n",
    "# My own cleaning libraryb\n",
    "import cleaning_tools as ct\n",
    "import tools\n",
    "\n",
    "# For reloading my tools, while working on them\n",
    "from importlib import reload\n",
    "\n",
    "import warnings\n",
    "warnings.filterwarnings('ignore')\n",
    "\n",
    "seed = 42"
   ]
  },
  {
   "cell_type": "code",
   "execution_count": 2,
   "metadata": {},
   "outputs": [
    {
     "ename": "NameError",
     "evalue": "name 'str_cols' is not defined",
     "output_type": "error",
     "traceback": [
      "\u001b[0;31m---------------------------------------------------------------------------\u001b[0m",
      "\u001b[0;31mNameError\u001b[0m                                 Traceback (most recent call last)",
      "\u001b[0;32m<ipython-input-2-90c65ee23036>\u001b[0m in \u001b[0;36m<module>\u001b[0;34m()\u001b[0m\n\u001b[0;32m----> 1\u001b[0;31m \u001b[0;32mfor\u001b[0m \u001b[0mc\u001b[0m \u001b[0;32min\u001b[0m \u001b[0mstr_cols\u001b[0m\u001b[0;34m:\u001b[0m\u001b[0;34m\u001b[0m\u001b[0m\n\u001b[0m\u001b[1;32m      2\u001b[0m     \u001b[0;32mif\u001b[0m \u001b[0mdata\u001b[0m\u001b[0;34m[\u001b[0m\u001b[0mc\u001b[0m\u001b[0;34m]\u001b[0m\u001b[0;34m.\u001b[0m\u001b[0misnull\u001b[0m\u001b[0;34m(\u001b[0m\u001b[0;34m)\u001b[0m\u001b[0;34m.\u001b[0m\u001b[0msum\u001b[0m\u001b[0;34m(\u001b[0m\u001b[0;34m)\u001b[0m \u001b[0;34m!=\u001b[0m \u001b[0;36m0\u001b[0m\u001b[0;34m:\u001b[0m\u001b[0;34m\u001b[0m\u001b[0m\n\u001b[1;32m      3\u001b[0m         \u001b[0mprint\u001b[0m\u001b[0;34m(\u001b[0m\u001b[0mc\u001b[0m\u001b[0;34m,\u001b[0m \u001b[0mdata\u001b[0m\u001b[0;34m[\u001b[0m\u001b[0mc\u001b[0m\u001b[0;34m]\u001b[0m\u001b[0;34m.\u001b[0m\u001b[0misnull\u001b[0m\u001b[0;34m(\u001b[0m\u001b[0;34m)\u001b[0m\u001b[0;34m.\u001b[0m\u001b[0msum\u001b[0m\u001b[0;34m(\u001b[0m\u001b[0;34m)\u001b[0m\u001b[0;34m)\u001b[0m\u001b[0;34m\u001b[0m\u001b[0m\n",
      "\u001b[0;31mNameError\u001b[0m: name 'str_cols' is not defined"
     ]
    }
   ],
   "source": [
    "for c in str_cols:\n",
    "    if data[c].isnull().sum() != 0:\n",
    "        print(c, data[c].isnull().sum())"
   ]
  },
  {
   "cell_type": "code",
   "execution_count": 83,
   "metadata": {},
   "outputs": [],
   "source": [
    "# Load Training df\n",
    "data = tools.load_data('../data/train.csv')\n",
    "\n",
    "def clean(df):\n",
    "    \n",
    "    # Map to number\n",
    "    df = ct.map_to_number(df)\n",
    "    \n",
    "    # Transform columns\n",
    "    df['MS_SubClass'] = df.MS_SubClass.apply(lambda x: str(x))\n",
    "    df['Total_SF']      = df['Total_Bsmt_SF'] + df['1st_Flr_SF'] + df['2nd_Flr_SF']\n",
    "    df['porch_area']    = df['Open_Porch_SF'] + df['Enclosed_Porch'] + df['3Ssn_Porch'] + df['Screen_Porch']\n",
    "    df['Overall_Qual2'] = df['Overall_Qual']**2\n",
    "    \n",
    "    df.drop(['Open_Porch_SF', 'Enclosed_Porch', '3Ssn_Porch', 'Screen_Porch'], axis=1, inplace=True)\n",
    "    df.drop(['Total_Bsmt_SF', '1st_Flr_SF', '2nd_Flr_SF'], axis=1, inplace=True)\n",
    "    df.drop('Garage_Cars', axis=1, inplace=True)\n",
    "    df.drop('Pool_Area',   axis=1, inplace=True)\n",
    "    #df.drop('MS_SubClass', axis=1, inplace=True)\n",
    "    df.drop('Kitchen_AbvGr', axis=1, inplace=True)\n",
    "    df.drop(['Id', 'PID'], axis=1, inplace=True)\n",
    "    df.drop(['Alley', 'Misc_Feature', 'Fence'], axis=1, inplace=True)   \n",
    "\n",
    "    df = pd.get_dummies(df, columns=['MS_SubClass'])\n",
    "    df = pd.get_dummies(df, columns=['Neighborhood'])\n",
    "    df = pd.get_dummies(df, columns=['Bldg_Type'])\n",
    "    df = pd.get_dummies(df, columns=['MS_Zoning'])\n",
    "    \n",
    "    \n",
    "    return df\n",
    "\n",
    "data = clean(data)\n",
    "\n",
    "\n",
    "# Outliers :\n",
    "data = data[data['SalePrice']    < 500000]\n",
    "data = data[data['Total_SF']     < 10000]\n",
    "data = data[data['Lot_Frontage'] < 250]\n",
    "data = data[data['Lot_Area']     < 50000]\n",
    "\n",
    "# Split X/y\n",
    "y = data[['SalePrice']].copy()\n",
    "X = data.drop('SalePrice', axis=1)\n",
    "\n",
    "# num types\n",
    "num_types = [np.int64, np.uint8, np.float64]\n",
    "\n",
    "# Add\n",
    "num_cols = [c for c in X.columns if X[c].dtype in num_types]\n",
    "str_cols = [c for c in X.columns if X[c].dtype not in num_types]\n",
    "X = X[num_cols]\n",
    "\n",
    "X_train, X_test, y_train, y_test = train_test_split(X, y, test_size=0.3, random_state=42)\n",
    "\n",
    "imputer = Imputer(strategy='median').fit(X_train)\n",
    "X_train = imputer.transform(X_train)\n",
    "X_test  = imputer.transform(X_test)\n",
    "\n",
    "scaler = StandardScaler().fit(X_train)\n",
    "X_train = scaler.transform(X_train)\n",
    "X_test  = scaler.transform(X_test)"
   ]
  },
  {
   "cell_type": "code",
   "execution_count": 67,
   "metadata": {},
   "outputs": [
    {
     "data": {
      "text/plain": [
       "(1182, 96)"
      ]
     },
     "execution_count": 67,
     "metadata": {},
     "output_type": "execute_result"
    }
   ],
   "source": [
    "X_train.shape"
   ]
  },
  {
   "cell_type": "code",
   "execution_count": 69,
   "metadata": {},
   "outputs": [
    {
     "name": "stdout",
     "output_type": "stream",
     "text": [
      "best train k:  55\n",
      "best test k:  55\n"
     ]
    },
    {
     "data": {
      "image/png": "[encoded data removed]",
      "text/plain": [
       "<matplotlib.figure.Figure at 0x7f148d479be0>"
      ]
     },
     "metadata": {},
     "output_type": "display_data"
    }
   ],
   "source": [
    "# R = GradientBoostingRegressor(n_estimators = best['n_estimators'],\n",
    "#                               max_depth=best['max_depth'],\n",
    "#                               alpha=best['alpha'],\n",
    "#                               learning_rate=best['learning_rate'],\n",
    "#                               )\n",
    "R = GradientBoostingRegressor()\n",
    "scores1 = []\n",
    "scores2 = []\n",
    "ks = [i for i in range(1, X_train.shape[1]+1)]\n",
    "for k in ks:\n",
    "    selector = SelectKBest(k=k)\n",
    "    selector.fit(X_train, y_train)\n",
    "    \n",
    "    x1 = selector.transform(X_train)\n",
    "    x2 = selector.transform(X_test)\n",
    "    \n",
    "    cvs = cross_val_score(R, x1, y_train, cv=3)\n",
    "    \n",
    "    R.fit(x1, y_train)\n",
    "    s2 = R.score(x2, y_test)\n",
    "    \n",
    "    scores1.append(cvs.mean())\n",
    "    scores2.append(s2)\n",
    "\n",
    "best_train = ks[scores1.index(max(scores1))]\n",
    "best_test  = ks[scores2.index(max(scores2))]\n",
    "\n",
    "f, ax = plt.subplots()\n",
    "ax.plot(ks, scores1, 'green')\n",
    "ax.plot(ks, scores2, 'blue')\n",
    "print('best train k: ',  best_train)\n",
    "print('best test k: ',  best_test)"
   ]
  },
  {
   "cell_type": "code",
   "execution_count": 70,
   "metadata": {
    "collapsed": true
   },
   "outputs": [],
   "source": [
    "selector = SelectKBest(k=best_test)\n",
    "selector.fit(X_train, y_train)\n",
    "X_train = selector.transform(X_train)\n",
    "X_test  = selector.transform(X_test)"
   ]
  },
  {
   "cell_type": "code",
   "execution_count": 74,
   "metadata": {},
   "outputs": [
    {
     "name": "stdout",
     "output_type": "stream",
     "text": [
      "{'alpha': 0.001, 'learning_rate': 0.4, 'max_depth': 2, 'n_estimators': 100}\n"
     ]
    }
   ],
   "source": [
    "params = {'n_estimators': [50, 100, 150],\n",
    "          'learning_rate': [0.01, 0.4, 0.45],\n",
    "          'alpha' : [0.001, 0.01, 0.1],\n",
    "          'max_depth' : [2]\n",
    "         }\n",
    "\n",
    "estimator = GradientBoostingRegressor()\n",
    "GSV = GridSearchCV(estimator, param_grid=params, n_jobs=-1)\n",
    "GSV.fit(X_train, y_train)\n",
    "best = GSV.best_params_\n",
    "print(best)"
   ]
  },
  {
   "cell_type": "code",
   "execution_count": 150,
   "metadata": {},
   "outputs": [
    {
     "data": {
      "text/plain": [
       "0.88063718070395314"
      ]
     },
     "execution_count": 150,
     "metadata": {},
     "output_type": "execute_result"
    }
   ],
   "source": [
    "GSV.best_score_"
   ]
  },
  {
   "cell_type": "code",
   "execution_count": 75,
   "metadata": {},
   "outputs": [
    {
     "name": "stdout",
     "output_type": "stream",
     "text": [
      "0.901765685681\n",
      "0.931579483492\n"
     ]
    }
   ],
   "source": [
    "R = GradientBoostingRegressor(n_estimators = best['n_estimators'],\n",
    "                              max_depth=best['max_depth'],\n",
    "                              alpha=best['alpha'],\n",
    "                              learning_rate=best['learning_rate'],\n",
    "                             )\n",
    "\n",
    "print(cross_val_score(R, X_train, y_train, cv=3).mean())\n",
    "\n",
    "R.fit(X_train, y_train)\n",
    "print(R.score(X_test, y_test))"
   ]
  },
  {
   "cell_type": "code",
   "execution_count": 78,
   "metadata": {},
   "outputs": [],
   "source": [
    "data_test = tools.load_data('../data/test.csv')\n",
    "ids       = data_test[['Id']].copy()\n",
    "\n",
    "data_test = clean(data_test)\n",
    "data_test['Neighborhood_GrnHill'] = 0\n",
    "data_test['Neighborhood_Landmrk'] = 0\n",
    "data_test['MS_Zoning_A (agr)']   = 0\n",
    "data_test['MS_SubClass_150']   = 0\n",
    "\n",
    "\n",
    "X_final = data_test[num_cols]\n",
    "X_final = imputer.transform(X_final)\n",
    "X_final = scaler.transform(X_final)\n",
    "X_final = selector.transform(X_final)\n",
    "y_final = pd.DataFrame(R.predict(X_final), columns=['SalePrice'])\n",
    "\n",
    "final_df = pd.concat([ids, y_final], axis=1)\n",
    "final_df.to_csv('sub6_gbr_withDummies.csv', index=False)"
   ]
  },
  {
   "cell_type": "code",
   "execution_count": 259,
   "metadata": {},
   "outputs": [
    {
     "data": {
      "text/plain": [
       "SalePrice    178807.019155\n",
       "dtype: float64"
      ]
     },
     "execution_count": 259,
     "metadata": {},
     "output_type": "execute_result"
    }
   ],
   "source": [
    "y_final.mean()"
   ]
  }
 ],
 "metadata": {
  "kernelspec": {
   "display_name": "Python 3",
   "language": "python",
   "name": "python3"
  },
  "language_info": {
   "codemirror_mode": {
    "name": "ipython",
    "version": 3
   },
   "file_extension": ".py",
   "mimetype": "text/x-python",
   "name": "python",
   "nbconvert_exporter": "python",
   "pygments_lexer": "ipython3",
   "version": "3.6.1"
  }
 },
 "nbformat": 4,
 "nbformat_minor": 2
}
