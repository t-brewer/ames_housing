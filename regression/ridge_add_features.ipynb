{
 "cells": [
  {
   "cell_type": "code",
   "execution_count": 2,
   "metadata": {
    "collapsed": true
   },
   "outputs": [],
   "source": [
    "# Import libraries\n",
    "\n",
    "# Basic\n",
    "import numpy as np\n",
    "import pandas as pd\n",
    "\n",
    "# Plotting\n",
    "import seaborn as sns\n",
    "import matplotlib.pyplot as plt\n",
    "%matplotlib inline\n",
    "\n",
    "# sklearn\n",
    "from sklearn.preprocessing import StandardScaler, Imputer\n",
    "from sklearn.model_selection import cross_val_score, train_test_split, GridSearchCV\n",
    "from sklearn.linear_model import LinearRegression, Ridge, Lasso\n",
    "from sklearn.feature_selection import RFECV, SelectKBest\n",
    "\n",
    "\n",
    "# My own cleaning libraryb\n",
    "import cleaning_tools as ct\n",
    "import tools\n",
    "\n",
    "# For reloading my tools, while working on them\n",
    "from importlib import reload\n",
    "\n",
    "import warnings\n",
    "warnings.filterwarnings('ignore')\n",
    "\n",
    "seed = 42"
   ]
  },
  {
   "cell_type": "code",
   "execution_count": 55,
   "metadata": {},
   "outputs": [],
   "source": [
    "# Load Training Data\n",
    "data = tools.load_data('../data/train.csv')\n",
    "y = data_all[['SalePrice']].copy()\n",
    "X = data_all.drop('SalePrice', axis=1)\n",
    "X.drop(['Id', 'PID'], axis=1, inplace=True)\n",
    "X.drop(['Garage_Cars', 'Pool_Area', 'MS_SubClass'], axis=1, inplace=True)\n",
    "X = ct.map_to_number(X)\n",
    "\n",
    "X['porch_area']  = X['Open_Porch_SF'] + X['Enclosed_Porch'] + X['3Ssn_Porch'] + X['Screen_Porch']\n",
    "X.drop(['Open_Porch_SF', 'Enclosed_Porch', '3Ssn_Porch', 'Screen_Porch'], axis=1, inplace=True)\n",
    "\n",
    "num_cols = [c for c in X.columns if X[c].dtype in [np.int64, np.float64]]\n",
    "str_cols = [c for c in X.columns if X[c].dtype not in [np.int64, np.float64]]\n",
    "X = X[num_cols]\n",
    "\n",
    "X_train, X_test, y_train, y_test = train_test_split(X, y, test_size=0.2, random_state=seed)\n",
    "\n",
    "imputer = Imputer(strategy='median').fit(X_train)\n",
    "X_train = imputer.transform(X_train)\n",
    "X_test  = imputer.transform(X_test)\n",
    "\n",
    "scaler = StandardScaler().fit(X_train)\n",
    "X_train = scaler.transform(X_train)\n",
    "X_test  = scaler.transform(X_test)\n"
   ]
  },
  {
   "cell_type": "code",
   "execution_count": 56,
   "metadata": {},
   "outputs": [
    {
     "data": {
      "text/plain": [
       "[<matplotlib.lines.Line2D at 0x7f9ba6492f98>]"
      ]
     },
     "execution_count": 56,
     "metadata": {},
     "output_type": "execute_result"
    },
    {
     "data": {
      "image/png": "[encoded data removed]",
      "text/plain": [
       "<matplotlib.figure.Figure at 0x7f9ba65c6240>"
      ]
     },
     "metadata": {},
     "output_type": "display_data"
    }
   ],
   "source": [
    "R = Ridge(alpha=631)\n",
    "scores = []\n",
    "ks = [i for i in range(1, X_train.shape[1]+1)]\n",
    "for k in ks:\n",
    "    _ = SelectKBest(k=k).fit_transform(X_train, y_train)\n",
    "    cvs = cross_val_score(R, _, y_train, cv=3)\n",
    "    scores.append(cvs.mean())\n",
    "    \n",
    "plt.plot(ks, scores)"
   ]
  },
  {
   "cell_type": "code",
   "execution_count": 57,
   "metadata": {},
   "outputs": [
    {
     "name": "stdout",
     "output_type": "stream",
     "text": [
      "best alpha :  586.432160804\n"
     ]
    },
    {
     "data": {
      "image/png": "[encoded data removed]",
      "text/plain": [
       "<matplotlib.figure.Figure at 0x7f9ba6509780>"
      ]
     },
     "metadata": {},
     "output_type": "display_data"
    }
   ],
   "source": [
    "scores = []\n",
    "alpha = np.linspace(300, 900, num=200)\n",
    "for a in alpha:\n",
    "    R = Ridge(alpha=a)\n",
    "    cvs = cross_val_score(R, X_train, y_train, cv=3)\n",
    "    scores.append(cvs.mean())\n",
    "\n",
    "plt.plot(alpha, scores)\n",
    "print('best alpha : ', alpha[scores.index(max(scores))])"
   ]
  },
  {
   "cell_type": "code",
   "execution_count": 58,
   "metadata": {},
   "outputs": [
    {
     "name": "stdout",
     "output_type": "stream",
     "text": [
      "0.835465827965\n",
      "0.87342045386\n"
     ]
    }
   ],
   "source": [
    "R = Ridge(alpha=586)\n",
    "R.fit(X_train, y_train)\n",
    "print(R.score(X_train, y_train))\n",
    "print(R.score(X_test, y_test))"
   ]
  },
  {
   "cell_type": "code",
   "execution_count": 57,
   "metadata": {
    "collapsed": true
   },
   "outputs": [],
   "source": [
    "data_test = tools.load_data('../data/test.csv')\n",
    "ids = data_test[['Id']].copy()\n",
    "X_final = data_test.drop('Id', axis=1).copy()\n",
    "X_final = ct.map_to_number(X_final)\n",
    "X_final = X_final[num_cols]\n",
    "X_final = imputer.transform(X_final)\n",
    "X_final = scaler.transform(X_final)\n",
    "y_final = pd.DataFrame(R.predict(X_final), columns=['SalePrice'])\n",
    "\n",
    "final_df = pd.concat([ids, y_final], axis=1)\n",
    "final_df.to_csv('nums_cols_only.csv', index=False)"
   ]
  },
  {
   "cell_type": "code",
   "execution_count": 61,
   "metadata": {},
   "outputs": [
    {
     "data": {
      "text/plain": [
       "Fence    1651\n",
       "dtype: int64"
      ]
     },
     "execution_count": 61,
     "metadata": {},
     "output_type": "execute_result"
    }
   ],
   "source": [
    "data[['Fence']].isnull().sum()"
   ]
  }
 ],
 "metadata": {
  "kernelspec": {
   "display_name": "Python 3",
   "language": "python",
   "name": "python3"
  },
  "language_info": {
   "codemirror_mode": {
    "name": "ipython",
    "version": 3
   },
   "file_extension": ".py",
   "mimetype": "text/x-python",
   "name": "python",
   "nbconvert_exporter": "python",
   "pygments_lexer": "ipython3",
   "version": "3.6.1"
  }
 },
 "nbformat": 4,
 "nbformat_minor": 2
}
