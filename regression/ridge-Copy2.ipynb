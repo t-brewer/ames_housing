{
 "cells": [
  {
   "cell_type": "code",
   "execution_count": 1,
   "metadata": {
    "collapsed": true
   },
   "outputs": [],
   "source": [
    "# Import libraries\n",
    "\n",
    "# Basic\n",
    "import numpy as np\n",
    "import pandas as pd\n",
    "\n",
    "# Plotting\n",
    "import seaborn as sns\n",
    "import matplotlib.pyplot as plt\n",
    "%matplotlib inline\n",
    "\n",
    "# sklearn\n",
    "from sklearn.preprocessing import StandardScaler, Imputer\n",
    "from sklearn.model_selection import cross_val_score, train_test_split, GridSearchCV\n",
    "from sklearn.linear_model import LinearRegression, Ridge, ElasticNet\n",
    "from sklearn.feature_selection import RFECV, SelectKBest\n",
    "from sklearn.ensemble import GradientBoostingRegressor\n",
    "\n",
    "\n",
    "# My own cleaning libraryb\n",
    "import cleaning_tools as ct\n",
    "import tools\n",
    "\n",
    "# For reloading my tools, while working on them\n",
    "from importlib import reload\n",
    "\n",
    "import warnings\n",
    "warnings.filterwarnings('ignore')\n",
    "\n",
    "seed = 42"
   ]
  },
  {
   "cell_type": "code",
   "execution_count": 2,
   "metadata": {},
   "outputs": [
    {
     "ename": "NameError",
     "evalue": "name 'num_cols' is not defined",
     "output_type": "error",
     "traceback": [
      "\u001b[0;31m---------------------------------------------------------------------------\u001b[0m",
      "\u001b[0;31mNameError\u001b[0m                                 Traceback (most recent call last)",
      "\u001b[0;32m<ipython-input-2-c2e892ba4f5b>\u001b[0m in \u001b[0;36m<module>\u001b[0;34m()\u001b[0m\n\u001b[0;32m----> 1\u001b[0;31m \u001b[0;32mfor\u001b[0m \u001b[0mc\u001b[0m \u001b[0;32min\u001b[0m \u001b[0mnum_cols\u001b[0m\u001b[0;34m:\u001b[0m\u001b[0;34m\u001b[0m\u001b[0m\n\u001b[0m\u001b[1;32m      2\u001b[0m     \u001b[0mprint\u001b[0m\u001b[0;34m(\u001b[0m\u001b[0mc\u001b[0m\u001b[0;34m)\u001b[0m\u001b[0;34m\u001b[0m\u001b[0m\n",
      "\u001b[0;31mNameError\u001b[0m: name 'num_cols' is not defined"
     ]
    }
   ],
   "source": [
    "for c in num_cols:\n",
    "    print(c)"
   ]
  },
  {
   "cell_type": "code",
   "execution_count": 3,
   "metadata": {
    "collapsed": true
   },
   "outputs": [],
   "source": [
    "# Load Training Data\n",
    "data = tools.load_data('../data/train.csv')\n",
    "\n",
    "def clean(data):\n",
    "    # Transform columns\n",
    "    data['Total_SF']      = data['Total_Bsmt_SF'] + data['1st_Flr_SF'] + data['2nd_Flr_SF']\n",
    "    data['porch_area']    = data['Open_Porch_SF'] + data['Enclosed_Porch'] + data['3Ssn_Porch'] + data['Screen_Porch']\n",
    "    data['Overall_Qual2'] = data['Overall_Qual']**2\n",
    "    #data['Year_Built2']   = data['Year_Built']**2\n",
    "    #data['SBrkr'] = data['Electrical'].apply(lambda x: 1 if x==\"SBrkr\" else 0)\n",
    "\n",
    "    data.drop(['Total_Bsmt_SF', '1st_Flr_SF', '2nd_Flr_SF'], axis=1, inplace=True)\n",
    "    data.drop('Garage_Cars', axis=1, inplace=True)\n",
    "    data.drop('Pool_Area',   axis=1, inplace=True)\n",
    "    data.drop('MS_SubClass', axis=1, inplace=True)\n",
    "    data.drop('Kitchen_AbvGr', axis=1, inplace=True)\n",
    "    data.drop(['Id', 'PID'], axis=1, inplace=True)\n",
    "    \n",
    "    # Map to number\n",
    "    data = ct.map_to_number(data)\n",
    "    \n",
    "    return data\n",
    "\n",
    "data = clean(data)\n",
    "\n",
    "# Outliers :\n",
    "data = data[data['Lot_Frontage'] < 250].copy()\n",
    "data = data[data['Lot_Area'] < 20000]\n",
    "\n",
    "\n",
    "\n",
    "# Split X/y\n",
    "y = data[['SalePrice']].copy()\n",
    "X = data.drop('SalePrice', axis=1)\n",
    "X.drop(['Open_Porch_SF', 'Enclosed_Porch', '3Ssn_Porch', 'Screen_Porch'], axis=1, inplace=True)\n",
    "\n",
    "# Add\n",
    "num_cols = [c for c in X.columns if X[c].dtype in [np.int64, np.float64]]\n",
    "str_cols = [c for c in X.columns if X[c].dtype not in [np.int64, np.float64]]\n",
    "X = X[num_cols]\n",
    "\n",
    "X_train, X_test, y_train, y_test = train_test_split(X, y, test_size=0.3)\n",
    "\n",
    "imputer = Imputer(strategy='median').fit(X_train)\n",
    "X_train = imputer.transform(X_train)\n",
    "X_test  = imputer.transform(X_test)\n",
    "\n",
    "scaler = StandardScaler().fit(X_train)\n",
    "X_train = scaler.transform(X_train)\n",
    "X_test  = scaler.transform(X_test)\n"
   ]
  },
  {
   "cell_type": "code",
   "execution_count": 97,
   "metadata": {},
   "outputs": [
    {
     "data": {
      "text/plain": [
       "(1689, 42)"
      ]
     },
     "execution_count": 97,
     "metadata": {},
     "output_type": "execute_result"
    }
   ],
   "source": [
    "X.shape"
   ]
  },
  {
   "cell_type": "code",
   "execution_count": 4,
   "metadata": {},
   "outputs": [
    {
     "name": "stdout",
     "output_type": "stream",
     "text": [
      "best train k:  32\n",
      "best test k:  32\n"
     ]
    },
    {
     "data": {
      "image/png": "[encoded data removed]",
      "text/plain": [
       "<matplotlib.figure.Figure at 0x7f51f03cf940>"
      ]
     },
     "metadata": {},
     "output_type": "display_data"
    }
   ],
   "source": [
    "R = Ridge()\n",
    "scores1 = []\n",
    "scores2 = []\n",
    "ks = [i for i in range(1, X_train.shape[1]+1)]\n",
    "for k in ks:\n",
    "    selector = SelectKBest(k=k)\n",
    "    selector.fit(X_train, y_train)\n",
    "    \n",
    "    x1 = selector.transform(X_train)\n",
    "    x2 = selector.transform(X_test)\n",
    "    \n",
    "    cvs = cross_val_score(R, x1, y_train, cv=3)\n",
    "    \n",
    "    R.fit(x1, y_train)\n",
    "    s2 = R.score(x2, y_test)\n",
    "    \n",
    "    scores1.append(cvs.mean())\n",
    "    scores2.append(s2)\n",
    "\n",
    "f, ax = plt.subplots()\n",
    "ax.plot(ks, scores1, 'green')\n",
    "ax.plot(ks, scores2, 'blue')\n",
    "print('best train k: ',  ks[scores1.index(max(scores1))])\n",
    "print('best test k: ',  ks[scores2.index(max(scores2))])"
   ]
  },
  {
   "cell_type": "code",
   "execution_count": 5,
   "metadata": {
    "collapsed": true
   },
   "outputs": [],
   "source": [
    "selector = SelectKBest(k=ks[scores2.index(max(scores2))])\n",
    "selector.fit(X_train, y_train)\n",
    "X_train = selector.transform(X_train)\n",
    "X_test  = selector.transform(X_test)"
   ]
  },
  {
   "cell_type": "code",
   "execution_count": 152,
   "metadata": {},
   "outputs": [
    {
     "name": "stdout",
     "output_type": "stream",
     "text": [
      "{'alpha': 0.0001, 'learning_rate': 0.5, 'max_depth': 2, 'n_estimators': 250}\n"
     ]
    }
   ],
   "source": [
    "params = {'n_estimators': [250, 300, 350],\n",
    "          'learning_rate': [0.5, 0.6, 0.65],\n",
    "          'alpha' : [0.0001],\n",
    "          'max_depth' : [2]\n",
    "         }\n",
    "\n",
    "estimator = GradientBoostingRegressor()\n",
    "GSV = GridSearchCV(estimator, param_grid=params, n_jobs=-1)\n",
    "GSV.fit(X_train, y_train)\n",
    "best = GSV.best_params_\n",
    "print(best)"
   ]
  },
  {
   "cell_type": "code",
   "execution_count": 150,
   "metadata": {},
   "outputs": [
    {
     "data": {
      "text/plain": [
       "0.88063718070395314"
      ]
     },
     "execution_count": 150,
     "metadata": {},
     "output_type": "execute_result"
    }
   ],
   "source": [
    "GSV.best_score_"
   ]
  },
  {
   "cell_type": "code",
   "execution_count": 153,
   "metadata": {},
   "outputs": [
    {
     "name": "stdout",
     "output_type": "stream",
     "text": [
      "0.990011618466\n",
      "0.915523100674\n"
     ]
    }
   ],
   "source": [
    "R = GradientBoostingRegressor(n_estimators = best['n_estimators'],\n",
    "                              max_depth=best['max_depth'],\n",
    "                              alpha=best['alpha'],\n",
    "                              learning_rate=best['learning_rate'],\n",
    "                             )\n",
    "R.fit(X_train, y_train)\n",
    "print(R.score(X_train, y_train))\n",
    "print(R.score(X_test, y_test))"
   ]
  },
  {
   "cell_type": "code",
   "execution_count": 6,
   "metadata": {},
   "outputs": [
    {
     "name": "stdout",
     "output_type": "stream",
     "text": [
      "0.923214914557\n",
      "0.903224388377\n"
     ]
    }
   ],
   "source": [
    "L = Ridge()\n",
    "L.fit(X_train, y_train)\n",
    "\n",
    "print(L.score(X_train, y_train))\n",
    "print(L.score(X_test, y_test))"
   ]
  },
  {
   "cell_type": "code",
   "execution_count": 155,
   "metadata": {
    "collapsed": true
   },
   "outputs": [],
   "source": [
    "data_test = tools.load_data('../data/test.csv')\n",
    "ids       = data_test[['Id']].copy()\n",
    "data_test = clean(data_test)\n",
    "\n",
    "X_final = data_test[num_cols]\n",
    "X_final = imputer.transform(X_final)\n",
    "X_final = scaler.transform(X_final)\n",
    "X_final = selector.transform(X_final)\n",
    "y_final = pd.DataFrame(R.predict(X_final), columns=['SalePrice'])\n",
    "\n",
    "final_df = pd.concat([ids, y_final], axis=1)\n",
    "final_df.to_csv('sub5_gbr.csv', index=False)"
   ]
  },
  {
   "cell_type": "code",
   "execution_count": 68,
   "metadata": {},
   "outputs": [
    {
     "data": {
      "text/plain": [
       "SalePrice    181589.908798\n",
       "dtype: float64"
      ]
     },
     "execution_count": 68,
     "metadata": {},
     "output_type": "execute_result"
    }
   ],
   "source": [
    "y_final.mean()"
   ]
  }
 ],
 "metadata": {
  "kernelspec": {
   "display_name": "Python 3",
   "language": "python",
   "name": "python3"
  },
  "language_info": {
   "codemirror_mode": {
    "name": "ipython",
    "version": 3
   },
   "file_extension": ".py",
   "mimetype": "text/x-python",
   "name": "python",
   "nbconvert_exporter": "python",
   "pygments_lexer": "ipython3",
   "version": "3.6.1"
  }
 },
 "nbformat": 4,
 "nbformat_minor": 2
}
