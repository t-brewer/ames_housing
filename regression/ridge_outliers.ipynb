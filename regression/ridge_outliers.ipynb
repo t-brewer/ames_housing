{
 "cells": [
  {
   "cell_type": "code",
   "execution_count": 47,
   "metadata": {
    "collapsed": true
   },
   "outputs": [],
   "source": [
    "# Import libraries\n",
    "\n",
    "# Basic\n",
    "import numpy as np\n",
    "import pandas as pd\n",
    "\n",
    "# Plotting\n",
    "import seaborn as sns\n",
    "import matplotlib.pyplot as plt\n",
    "%matplotlib inline\n",
    "\n",
    "# sklearn\n",
    "from sklearn.preprocessing import StandardScaler, Imputer\n",
    "from sklearn.model_selection import cross_val_score, train_test_split, GridSearchCV\n",
    "from sklearn.linear_model import LinearRegression, Ridge, ElasticNet\n",
    "from sklearn.feature_selection import RFECV, SelectKBest\n",
    "from sklearn.ensemble import GradientBoostingRegressor\n",
    "\n",
    "\n",
    "# My own cleaning libraryb\n",
    "import cleaning_tools as ct\n",
    "import tools\n",
    "\n",
    "# For reloading my tools, while working on them\n",
    "from importlib import reload\n",
    "\n",
    "import warnings\n",
    "warnings.filterwarnings('ignore')\n",
    "\n",
    "seed = 42"
   ]
  },
  {
   "cell_type": "code",
   "execution_count": 48,
   "metadata": {},
   "outputs": [
    {
     "name": "stdout",
     "output_type": "stream",
     "text": [
      "Lot_Frontage\n",
      "Lot_Area\n",
      "Overall_Qual\n",
      "Overall_Cond\n",
      "Year_Built\n",
      "Year_Remod/Add\n",
      "Mas_Vnr_Area\n",
      "BsmtFin_SF_1\n",
      "BsmtFin_SF_2\n",
      "Bsmt_Unf_SF\n",
      "Low_Qual_Fin_SF\n",
      "Gr_Liv_Area\n",
      "Bsmt_Full_Bath\n",
      "Bsmt_Half_Bath\n",
      "Full_Bath\n",
      "Half_Bath\n",
      "Bedroom_AbvGr\n",
      "Kitchen_AbvGr\n",
      "TotRms_AbvGrd\n",
      "Fireplaces\n",
      "Garage_Yr_Blt\n",
      "Garage_Area\n",
      "Wood_Deck_SF\n",
      "Misc_Val\n",
      "Mo_Sold\n",
      "Yr_Sold\n",
      "Total_SF\n",
      "porch_area\n",
      "Overall_Qual2\n",
      "Heating_QC\n",
      "Kitchen_Qual\n",
      "Exter_Qual\n",
      "Exter_Cond\n",
      "Bsmt_Qual\n",
      "Bsmt_Cond\n",
      "Fireplace_Qu\n",
      "Garage_Qual\n",
      "Garage_Cond\n",
      "Pool_QC\n",
      "Central_Air\n",
      "Garage_Finish\n"
     ]
    }
   ],
   "source": [
    "for c in num_cols:\n",
    "    print(c)"
   ]
  },
  {
   "cell_type": "code",
   "execution_count": 132,
   "metadata": {},
   "outputs": [],
   "source": [
    "# Load Training Data\n",
    "data = tools.load_data('../data/train.csv')\n",
    "\n",
    "def clean(data):\n",
    "    # Transform columns\n",
    "    data['Total_SF']      = data['Total_Bsmt_SF'] + data['1st_Flr_SF'] + data['2nd_Flr_SF']\n",
    "    data['porch_area']    = data['Open_Porch_SF'] + data['Enclosed_Porch'] + data['3Ssn_Porch'] + data['Screen_Porch']\n",
    "    data['Overall_Qual2'] = data['Overall_Qual']**2\n",
    "    data['Year_Built2']   = data['Year_Built']**2\n",
    "\n",
    "    data.drop(['Total_Bsmt_SF', '1st_Flr_SF', '2nd_Flr_SF'], axis=1, inplace=True)\n",
    "    data.drop('Garage_Cars', axis=1, inplace=True)\n",
    "    data.drop('Pool_Area',   axis=1, inplace=True)\n",
    "    data.drop('MS_SubClass', axis=1, inplace=True)\n",
    "    data.drop('Kitchen_AbvGr', axis=1, inplace=True)\n",
    "    data.drop(['Id', 'PID'], axis=1, inplace=True)\n",
    "    \n",
    "    # Map to number\n",
    "    data = ct.map_to_number(data)\n",
    "    \n",
    "    return data\n",
    "\n",
    "data = clean(data)\n",
    "\n",
    "# Outliers :\n",
    "data = data[data['Lot_Frontage'] < 250].copy()\n",
    "data = data[data['Lot_Area'] < 20000]\n",
    "\n",
    "\n",
    "\n",
    "# Split X/y\n",
    "y = data[['SalePrice']].copy()\n",
    "X = data.drop('SalePrice', axis=1)\n",
    "X.drop(['Open_Porch_SF', 'Enclosed_Porch', '3Ssn_Porch', 'Screen_Porch'], axis=1, inplace=True)\n",
    "\n",
    "# Add\n",
    "num_cols = [c for c in X.columns if X[c].dtype in [np.int64, np.float64]]\n",
    "str_cols = [c for c in X.columns if X[c].dtype not in [np.int64, np.float64]]\n",
    "X = X[num_cols]\n",
    "\n",
    "X_train, X_test, y_train, y_test = train_test_split(X, y, test_size=0.3)\n",
    "\n",
    "imputer = Imputer(strategy='median').fit(X_train)\n",
    "X_train = imputer.transform(X_train)\n",
    "X_test  = imputer.transform(X_test)\n",
    "\n",
    "scaler = StandardScaler().fit(X_train)\n",
    "X_train = scaler.transform(X_train)\n",
    "X_test  = scaler.transform(X_test)\n"
   ]
  },
  {
   "cell_type": "code",
   "execution_count": 94,
   "metadata": {},
   "outputs": [
    {
     "data": {
      "text/plain": [
       "(1689, 39)"
      ]
     },
     "execution_count": 94,
     "metadata": {},
     "output_type": "execute_result"
    }
   ],
   "source": [
    "X.shape"
   ]
  },
  {
   "cell_type": "code",
   "execution_count": 133,
   "metadata": {},
   "outputs": [
    {
     "data": {
      "text/plain": [
       "[<matplotlib.lines.Line2D at 0x7f20974801d0>]"
      ]
     },
     "execution_count": 133,
     "metadata": {},
     "output_type": "execute_result"
    },
    {
     "data": {
      "image/png": "[encoded data removed]",
      "text/plain": [
       "<matplotlib.figure.Figure at 0x7f20975e5da0>"
      ]
     },
     "metadata": {},
     "output_type": "display_data"
    }
   ],
   "source": [
    "R = Ridge(alpha=0.8)\n",
    "scores = []\n",
    "ks = [i for i in range(1, X_train.shape[1]+1)]\n",
    "for k in ks:\n",
    "    _ = SelectKBest(k=k).fit_transform(X_train, y_train)\n",
    "    cvs = cross_val_score(R, _, y_train, cv=3)\n",
    "    scores.append(cvs.mean())\n",
    "    \n",
    "plt.plot(ks, scores)"
   ]
  },
  {
   "cell_type": "code",
   "execution_count": 130,
   "metadata": {},
   "outputs": [
    {
     "name": "stdout",
     "output_type": "stream",
     "text": [
      "best alpha :  0.6\n",
      "mean score :  0.908514388002\n"
     ]
    },
    {
     "data": {
      "image/png": "[encoded data removed]",
      "text/plain": [
       "<matplotlib.figure.Figure at 0x7f20975932b0>"
      ]
     },
     "metadata": {},
     "output_type": "display_data"
    }
   ],
   "source": [
    "scores = []\n",
    "alpha = np.linspace(0.1, 10, num=100)\n",
    "for a in alpha:\n",
    "    R = Ridge(alpha=a)\n",
    "    cvs = cross_val_score(R, X_train, y_train, cv=3)\n",
    "    scores.append(cvs.mean())\n",
    "\n",
    "plt.plot(alpha, scores)\n",
    "print('best alpha : ', alpha[scores.index(max(scores))])\n",
    "print('mean score : ', np.mean(scores))"
   ]
  },
  {
   "cell_type": "code",
   "execution_count": 135,
   "metadata": {},
   "outputs": [
    {
     "name": "stdout",
     "output_type": "stream",
     "text": [
      "0.924677161002\n",
      "0.900755276342\n"
     ]
    }
   ],
   "source": [
    "R = Ridge(alpha=0.6)\n",
    "R.fit(X_train, y_train)\n",
    "print(R.score(X_train, y_train))\n",
    "print(R.score(X_test, y_test))"
   ]
  },
  {
   "cell_type": "code",
   "execution_count": 124,
   "metadata": {},
   "outputs": [],
   "source": [
    "data_test = tools.load_data('../data/test.csv')\n",
    "ids       = data_test[['Id']].copy()\n",
    "data_test = clean(data_test)\n",
    "\n",
    "X_final = data_test[num_cols]\n",
    "X_final = imputer.transform(X_final)\n",
    "X_final = scaler.transform(X_final)\n",
    "y_final = pd.DataFrame(R.predict(X_final), columns=['SalePrice'])\n",
    "\n",
    "final_df = pd.concat([ids, y_final], axis=1)\n",
    "final_df.to_csv('sub4_polys.csv', index=False)"
   ]
  },
  {
   "cell_type": "code",
   "execution_count": 125,
   "metadata": {},
   "outputs": [
    {
     "data": {
      "text/plain": [
       "(879, 41)"
      ]
     },
     "execution_count": 125,
     "metadata": {},
     "output_type": "execute_result"
    }
   ],
   "source": [
    "X_final.shape"
   ]
  }
 ],
 "metadata": {
  "kernelspec": {
   "display_name": "Python 3",
   "language": "python",
   "name": "python3"
  },
  "language_info": {
   "codemirror_mode": {
    "name": "ipython",
    "version": 3
   },
   "file_extension": ".py",
   "mimetype": "text/x-python",
   "name": "python",
   "nbconvert_exporter": "python",
   "pygments_lexer": "ipython3",
   "version": "3.6.1"
  }
 },
 "nbformat": 4,
 "nbformat_minor": 2
}
