{
 "cells": [
  {
   "cell_type": "code",
   "execution_count": 26,
   "metadata": {
    "collapsed": true
   },
   "outputs": [],
   "source": [
    "# Import libraries\n",
    "\n",
    "# Basic\n",
    "import numpy as np\n",
    "import pandas as pd\n",
    "\n",
    "# Plotting\n",
    "import seaborn as sns\n",
    "import matplotlib.pyplot as plt\n",
    "%matplotlib inline\n",
    "\n",
    "# sklearn\n",
    "from sklearn.preprocessing import StandardScaler, Imputer\n",
    "from sklearn.model_selection import cross_val_score, train_test_split, GridSearchCV\n",
    "from sklearn.linear_model import LinearRegression, Ridge, Lasso\n",
    "from sklearn.feature_selection import RFECV, SelectKBest\n",
    "\n",
    "\n",
    "# My own cleaning libraryb\n",
    "import cleaning_tools as ct\n",
    "import tools\n",
    "\n",
    "# For reloading my tools, while working on them\n",
    "from importlib import reload\n",
    "\n",
    "import warnings\n",
    "warnings.filterwarnings('ignore')\n",
    "\n",
    "seed = 42"
   ]
  },
  {
   "cell_type": "code",
   "execution_count": 27,
   "metadata": {},
   "outputs": [],
   "source": [
    "# Load Training Data\n",
    "data_all = tools.load_data('../data/train.csv')\n",
    "y = data_all[['SalePrice']].copy()\n",
    "X = data_all.drop('SalePrice', axis=1)\n",
    "X.drop(['Id', 'PID'], axis=1, inplace=True)\n",
    "X = ct.map_to_number(X)\n",
    "\n",
    "\n",
    "num_cols = [c for c in X.columns if X[c].dtype in [np.int64, np.float64]]\n",
    "X_nums = X[num_cols].copy()\n",
    "\n",
    "imputer = Imputer(strategy='median').fit(X_nums)\n",
    "X_nums = imputer.transform(X_nums)\n",
    "\n",
    "scaler = StandardScaler().fit(X_nums)\n",
    "X_pp = scaler.transform(X_nums)\n",
    "\n",
    "X_train, X_test, y_train, y_test = train_test_split(X_pp, y, test_size=0.2, random_state=seed)"
   ]
  },
  {
   "cell_type": "code",
   "execution_count": 43,
   "metadata": {},
   "outputs": [
    {
     "name": "stdout",
     "output_type": "stream",
     "text": [
      "[  7.17586463e-01   8.75208691e-01   8.25169546e-01   8.40728262e-01\n",
      "   8.54334134e-01   8.63321639e-01   8.35285096e-01  -5.33114644e+18\n",
      "   3.27014723e-01   8.26915649e-01]\n",
      "-5.3311464363e+17\n"
     ]
    }
   ],
   "source": [
    "LR = LinearRegression()\n",
    "cv_scores = cross_val_score(LR, X_train, y_train, cv=10)\n",
    "print(cv_scores)\n",
    "print(cv_scores.mean())"
   ]
  },
  {
   "cell_type": "code",
   "execution_count": 50,
   "metadata": {},
   "outputs": [
    {
     "name": "stdout",
     "output_type": "stream",
     "text": [
      "best alpha :  631.658291457\n"
     ]
    },
    {
     "data": {
      "image/png": "[encoded data removed]",
      "text/plain": [
       "<matplotlib.figure.Figure at 0x7fce4652c278>"
      ]
     },
     "metadata": {},
     "output_type": "display_data"
    }
   ],
   "source": [
    "scores = []\n",
    "alpha = np.linspace(300, 900, num=200)\n",
    "for a in alpha:\n",
    "    R = Ridge(alpha=a)\n",
    "    cvs = cross_val_score(R, X_train, y_train, cv=3)\n",
    "    scores.append(cvs.mean())\n",
    "\n",
    "plt.plot(alpha, scores)\n",
    "print('best alpha : ', alpha[scores.index(max(scores))])"
   ]
  },
  {
   "cell_type": "code",
   "execution_count": 53,
   "metadata": {},
   "outputs": [
    {
     "name": "stdout",
     "output_type": "stream",
     "text": [
      "0.840690134686\n",
      "0.872891185329\n"
     ]
    }
   ],
   "source": [
    "R = Ridge(alpha=631)\n",
    "R.fit(X_train, y_train)\n",
    "print(R.score(X_train, y_train))\n",
    "print(R.score(X_test, y_test))"
   ]
  },
  {
   "cell_type": "code",
   "execution_count": 57,
   "metadata": {},
   "outputs": [],
   "source": [
    "data_test = tools.load_data('../data/test.csv')\n",
    "ids = data_test[['Id']].copy()\n",
    "X_final = data_test.drop('Id', axis=1).copy()\n",
    "X_final = ct.map_to_number(X_final)\n",
    "X_final = X_final[num_cols]\n",
    "X_final = imputer.transform(X_final)\n",
    "X_final = scaler.transform(X_final)\n",
    "y_final = pd.DataFrame(R.predict(X_final), columns=['SalePrice'])\n",
    "\n",
    "final_df = pd.concat([ids, y_final], axis=1)\n",
    "final_df.to_csv('nums_cols_only.csv', index=False)"
   ]
  }
 ],
 "metadata": {
  "kernelspec": {
   "display_name": "Python 3",
   "language": "python",
   "name": "python3"
  },
  "language_info": {
   "codemirror_mode": {
    "name": "ipython",
    "version": 3
   },
   "file_extension": ".py",
   "mimetype": "text/x-python",
   "name": "python",
   "nbconvert_exporter": "python",
   "pygments_lexer": "ipython3",
   "version": "3.6.1"
  }
 },
 "nbformat": 4,
 "nbformat_minor": 2
}
