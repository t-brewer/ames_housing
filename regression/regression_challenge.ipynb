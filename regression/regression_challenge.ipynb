{
 "cells": [
  {
   "cell_type": "markdown",
   "metadata": {},
   "source": [
    "# Project 3 - Ames Housing Dataset Challenge <br>\n",
    "## Thomas Brewer - BOS"
   ]
  },
  {
   "cell_type": "code",
   "execution_count": 112,
   "metadata": {
    "collapsed": true
   },
   "outputs": [],
   "source": [
    "# Import libraries\n",
    "\n",
    "# Basic\n",
    "import numpy as np\n",
    "import pandas as pd\n",
    "\n",
    "# Plotting\n",
    "import seaborn as sns\n",
    "import matplotlib.pyplot as plt\n",
    "%matplotlib inline\n",
    "\n",
    "# sklearn\n",
    "from sklearn.preprocessing import StandardScaler, Imputer\n",
    "from sklearn.model_selection import cross_val_score, train_test_split\n",
    "\n",
    "# My own cleaning library\n",
    "import cleaning_tools as ct\n",
    "\n",
    "# For reloading my tools, while working on them\n",
    "from importlib import reload"
   ]
  },
  {
   "cell_type": "code",
   "execution_count": 305,
   "metadata": {},
   "outputs": [
    {
     "name": "stderr",
     "output_type": "stream",
     "text": [
      "/home/thomas/anaconda3/lib/python3.6/site-packages/scipy/stats/stats.py:253: RuntimeWarning: The input array could not be properly checked for nan values. nan values will be ignored.\n",
      "  \"values. nan values will be ignored.\", RuntimeWarning)\n"
     ]
    }
   ],
   "source": [
    "reload(ct)\n",
    "data = ct.make_clean()"
   ]
  },
  {
   "cell_type": "code",
   "execution_count": 302,
   "metadata": {},
   "outputs": [
    {
     "ename": "AttributeError",
     "evalue": "'DataFrame' object has no attribute 'Fireplace'",
     "output_type": "error",
     "traceback": [
      "\u001b[0;31m---------------------------------------------------------------------------\u001b[0m",
      "\u001b[0;31mAttributeError\u001b[0m                            Traceback (most recent call last)",
      "\u001b[0;32m<ipython-input-302-e2a096ca94d2>\u001b[0m in \u001b[0;36m<module>\u001b[0;34m()\u001b[0m\n\u001b[0;32m----> 1\u001b[0;31m \u001b[0mdata\u001b[0m\u001b[0;34m.\u001b[0m\u001b[0mFireplace\u001b[0m\u001b[0;34m\u001b[0m\u001b[0m\n\u001b[0m",
      "\u001b[0;32m/home/thomas/anaconda3/lib/python3.6/site-packages/pandas/core/generic.py\u001b[0m in \u001b[0;36m__getattr__\u001b[0;34m(self, name)\u001b[0m\n\u001b[1;32m   2968\u001b[0m             \u001b[0;32mif\u001b[0m \u001b[0mname\u001b[0m \u001b[0;32min\u001b[0m \u001b[0mself\u001b[0m\u001b[0;34m.\u001b[0m\u001b[0m_info_axis\u001b[0m\u001b[0;34m:\u001b[0m\u001b[0;34m\u001b[0m\u001b[0m\n\u001b[1;32m   2969\u001b[0m                 \u001b[0;32mreturn\u001b[0m \u001b[0mself\u001b[0m\u001b[0;34m[\u001b[0m\u001b[0mname\u001b[0m\u001b[0;34m]\u001b[0m\u001b[0;34m\u001b[0m\u001b[0m\n\u001b[0;32m-> 2970\u001b[0;31m             \u001b[0;32mreturn\u001b[0m \u001b[0mobject\u001b[0m\u001b[0;34m.\u001b[0m\u001b[0m__getattribute__\u001b[0m\u001b[0;34m(\u001b[0m\u001b[0mself\u001b[0m\u001b[0;34m,\u001b[0m \u001b[0mname\u001b[0m\u001b[0;34m)\u001b[0m\u001b[0;34m\u001b[0m\u001b[0m\n\u001b[0m\u001b[1;32m   2971\u001b[0m \u001b[0;34m\u001b[0m\u001b[0m\n\u001b[1;32m   2972\u001b[0m     \u001b[0;32mdef\u001b[0m \u001b[0m__setattr__\u001b[0m\u001b[0;34m(\u001b[0m\u001b[0mself\u001b[0m\u001b[0;34m,\u001b[0m \u001b[0mname\u001b[0m\u001b[0;34m,\u001b[0m \u001b[0mvalue\u001b[0m\u001b[0;34m)\u001b[0m\u001b[0;34m:\u001b[0m\u001b[0;34m\u001b[0m\u001b[0m\n",
      "\u001b[0;31mAttributeError\u001b[0m: 'DataFrame' object has no attribute 'Fireplace'"
     ]
    }
   ],
   "source": [
    "data.Fireplace"
   ]
  },
  {
   "cell_type": "code",
   "execution_count": 306,
   "metadata": {},
   "outputs": [
    {
     "name": "stdout",
     "output_type": "stream",
     "text": [
      "Dtype :  float64\n",
      "N_null =  114\n",
      "mean : 1978.7077955601446\n",
      "median : nan\n",
      "mode : 2005.0\n"
     ]
    },
    {
     "name": "stderr",
     "output_type": "stream",
     "text": [
      "/home/thomas/anaconda3/lib/python3.6/site-packages/numpy/lib/function_base.py:3858: RuntimeWarning: Invalid value encountered in median\n",
      "  r = func(a, **kwargs)\n"
     ]
    },
    {
     "data": {
      "image/png": "[encoded data removed]",
      "text/plain": [
       "<matplotlib.figure.Figure at 0x7f6e2ffcd2b0>"
      ]
     },
     "metadata": {},
     "output_type": "display_data"
    }
   ],
   "source": [
    "ct.check_values(data, 'Garage_Yr_Blt', cat=False)"
   ]
  },
  {
   "cell_type": "code",
   "execution_count": 246,
   "metadata": {
    "scrolled": true
   },
   "outputs": [
    {
     "data": {
      "text/html": [
       "<div>\n",
       "<style>\n",
       "    .dataframe thead tr:only-child th {\n",
       "        text-align: right;\n",
       "    }\n",
       "\n",
       "    .dataframe thead th {\n",
       "        text-align: left;\n",
       "    }\n",
       "\n",
       "    .dataframe tbody tr th {\n",
       "        vertical-align: top;\n",
       "    }\n",
       "</style>\n",
       "<table border=\"1\" class=\"dataframe\">\n",
       "  <thead>\n",
       "    <tr style=\"text-align: right;\">\n",
       "      <th></th>\n",
       "      <th>Central_Air</th>\n",
       "    </tr>\n",
       "  </thead>\n",
       "  <tbody>\n",
       "    <tr>\n",
       "      <th>0</th>\n",
       "      <td>1</td>\n",
       "    </tr>\n",
       "    <tr>\n",
       "      <th>1</th>\n",
       "      <td>1</td>\n",
       "    </tr>\n",
       "    <tr>\n",
       "      <th>2</th>\n",
       "      <td>1</td>\n",
       "    </tr>\n",
       "    <tr>\n",
       "      <th>3</th>\n",
       "      <td>1</td>\n",
       "    </tr>\n",
       "    <tr>\n",
       "      <th>4</th>\n",
       "      <td>1</td>\n",
       "    </tr>\n",
       "    <tr>\n",
       "      <th>5</th>\n",
       "      <td>1</td>\n",
       "    </tr>\n",
       "    <tr>\n",
       "      <th>6</th>\n",
       "      <td>1</td>\n",
       "    </tr>\n",
       "    <tr>\n",
       "      <th>7</th>\n",
       "      <td>1</td>\n",
       "    </tr>\n",
       "    <tr>\n",
       "      <th>8</th>\n",
       "      <td>1</td>\n",
       "    </tr>\n",
       "    <tr>\n",
       "      <th>9</th>\n",
       "      <td>1</td>\n",
       "    </tr>\n",
       "    <tr>\n",
       "      <th>10</th>\n",
       "      <td>1</td>\n",
       "    </tr>\n",
       "    <tr>\n",
       "      <th>11</th>\n",
       "      <td>1</td>\n",
       "    </tr>\n",
       "    <tr>\n",
       "      <th>12</th>\n",
       "      <td>1</td>\n",
       "    </tr>\n",
       "    <tr>\n",
       "      <th>13</th>\n",
       "      <td>1</td>\n",
       "    </tr>\n",
       "    <tr>\n",
       "      <th>14</th>\n",
       "      <td>1</td>\n",
       "    </tr>\n",
       "    <tr>\n",
       "      <th>15</th>\n",
       "      <td>1</td>\n",
       "    </tr>\n",
       "    <tr>\n",
       "      <th>16</th>\n",
       "      <td>0</td>\n",
       "    </tr>\n",
       "    <tr>\n",
       "      <th>17</th>\n",
       "      <td>1</td>\n",
       "    </tr>\n",
       "    <tr>\n",
       "      <th>18</th>\n",
       "      <td>1</td>\n",
       "    </tr>\n",
       "    <tr>\n",
       "      <th>19</th>\n",
       "      <td>1</td>\n",
       "    </tr>\n",
       "    <tr>\n",
       "      <th>20</th>\n",
       "      <td>1</td>\n",
       "    </tr>\n",
       "    <tr>\n",
       "      <th>21</th>\n",
       "      <td>1</td>\n",
       "    </tr>\n",
       "    <tr>\n",
       "      <th>22</th>\n",
       "      <td>1</td>\n",
       "    </tr>\n",
       "    <tr>\n",
       "      <th>23</th>\n",
       "      <td>1</td>\n",
       "    </tr>\n",
       "    <tr>\n",
       "      <th>24</th>\n",
       "      <td>0</td>\n",
       "    </tr>\n",
       "    <tr>\n",
       "      <th>25</th>\n",
       "      <td>1</td>\n",
       "    </tr>\n",
       "    <tr>\n",
       "      <th>26</th>\n",
       "      <td>1</td>\n",
       "    </tr>\n",
       "    <tr>\n",
       "      <th>27</th>\n",
       "      <td>1</td>\n",
       "    </tr>\n",
       "    <tr>\n",
       "      <th>28</th>\n",
       "      <td>0</td>\n",
       "    </tr>\n",
       "    <tr>\n",
       "      <th>29</th>\n",
       "      <td>1</td>\n",
       "    </tr>\n",
       "    <tr>\n",
       "      <th>...</th>\n",
       "      <td>...</td>\n",
       "    </tr>\n",
       "    <tr>\n",
       "      <th>2021</th>\n",
       "      <td>1</td>\n",
       "    </tr>\n",
       "    <tr>\n",
       "      <th>2022</th>\n",
       "      <td>1</td>\n",
       "    </tr>\n",
       "    <tr>\n",
       "      <th>2023</th>\n",
       "      <td>1</td>\n",
       "    </tr>\n",
       "    <tr>\n",
       "      <th>2024</th>\n",
       "      <td>1</td>\n",
       "    </tr>\n",
       "    <tr>\n",
       "      <th>2025</th>\n",
       "      <td>1</td>\n",
       "    </tr>\n",
       "    <tr>\n",
       "      <th>2026</th>\n",
       "      <td>1</td>\n",
       "    </tr>\n",
       "    <tr>\n",
       "      <th>2027</th>\n",
       "      <td>1</td>\n",
       "    </tr>\n",
       "    <tr>\n",
       "      <th>2028</th>\n",
       "      <td>1</td>\n",
       "    </tr>\n",
       "    <tr>\n",
       "      <th>2029</th>\n",
       "      <td>1</td>\n",
       "    </tr>\n",
       "    <tr>\n",
       "      <th>2030</th>\n",
       "      <td>1</td>\n",
       "    </tr>\n",
       "    <tr>\n",
       "      <th>2031</th>\n",
       "      <td>1</td>\n",
       "    </tr>\n",
       "    <tr>\n",
       "      <th>2032</th>\n",
       "      <td>1</td>\n",
       "    </tr>\n",
       "    <tr>\n",
       "      <th>2033</th>\n",
       "      <td>1</td>\n",
       "    </tr>\n",
       "    <tr>\n",
       "      <th>2034</th>\n",
       "      <td>1</td>\n",
       "    </tr>\n",
       "    <tr>\n",
       "      <th>2035</th>\n",
       "      <td>1</td>\n",
       "    </tr>\n",
       "    <tr>\n",
       "      <th>2036</th>\n",
       "      <td>1</td>\n",
       "    </tr>\n",
       "    <tr>\n",
       "      <th>2037</th>\n",
       "      <td>1</td>\n",
       "    </tr>\n",
       "    <tr>\n",
       "      <th>2038</th>\n",
       "      <td>1</td>\n",
       "    </tr>\n",
       "    <tr>\n",
       "      <th>2039</th>\n",
       "      <td>1</td>\n",
       "    </tr>\n",
       "    <tr>\n",
       "      <th>2040</th>\n",
       "      <td>1</td>\n",
       "    </tr>\n",
       "    <tr>\n",
       "      <th>2041</th>\n",
       "      <td>1</td>\n",
       "    </tr>\n",
       "    <tr>\n",
       "      <th>2042</th>\n",
       "      <td>0</td>\n",
       "    </tr>\n",
       "    <tr>\n",
       "      <th>2043</th>\n",
       "      <td>1</td>\n",
       "    </tr>\n",
       "    <tr>\n",
       "      <th>2044</th>\n",
       "      <td>1</td>\n",
       "    </tr>\n",
       "    <tr>\n",
       "      <th>2045</th>\n",
       "      <td>1</td>\n",
       "    </tr>\n",
       "    <tr>\n",
       "      <th>2046</th>\n",
       "      <td>1</td>\n",
       "    </tr>\n",
       "    <tr>\n",
       "      <th>2047</th>\n",
       "      <td>1</td>\n",
       "    </tr>\n",
       "    <tr>\n",
       "      <th>2048</th>\n",
       "      <td>1</td>\n",
       "    </tr>\n",
       "    <tr>\n",
       "      <th>2049</th>\n",
       "      <td>1</td>\n",
       "    </tr>\n",
       "    <tr>\n",
       "      <th>2050</th>\n",
       "      <td>1</td>\n",
       "    </tr>\n",
       "  </tbody>\n",
       "</table>\n",
       "<p>2051 rows × 1 columns</p>\n",
       "</div>"
      ],
      "text/plain": [
       "      Central_Air\n",
       "0               1\n",
       "1               1\n",
       "2               1\n",
       "3               1\n",
       "4               1\n",
       "5               1\n",
       "6               1\n",
       "7               1\n",
       "8               1\n",
       "9               1\n",
       "10              1\n",
       "11              1\n",
       "12              1\n",
       "13              1\n",
       "14              1\n",
       "15              1\n",
       "16              0\n",
       "17              1\n",
       "18              1\n",
       "19              1\n",
       "20              1\n",
       "21              1\n",
       "22              1\n",
       "23              1\n",
       "24              0\n",
       "25              1\n",
       "26              1\n",
       "27              1\n",
       "28              0\n",
       "29              1\n",
       "...           ...\n",
       "2021            1\n",
       "2022            1\n",
       "2023            1\n",
       "2024            1\n",
       "2025            1\n",
       "2026            1\n",
       "2027            1\n",
       "2028            1\n",
       "2029            1\n",
       "2030            1\n",
       "2031            1\n",
       "2032            1\n",
       "2033            1\n",
       "2034            1\n",
       "2035            1\n",
       "2036            1\n",
       "2037            1\n",
       "2038            1\n",
       "2039            1\n",
       "2040            1\n",
       "2041            1\n",
       "2042            0\n",
       "2043            1\n",
       "2044            1\n",
       "2045            1\n",
       "2046            1\n",
       "2047            1\n",
       "2048            1\n",
       "2049            1\n",
       "2050            1\n",
       "\n",
       "[2051 rows x 1 columns]"
      ]
     },
     "execution_count": 246,
     "metadata": {},
     "output_type": "execute_result"
    }
   ],
   "source": [
    "data[[c for c in data.columns if 'Central_Air' in c]]"
   ]
  },
  {
   "cell_type": "code",
   "execution_count": 42,
   "metadata": {},
   "outputs": [
    {
     "data": {
      "text/plain": [
       "330"
      ]
     },
     "execution_count": 42,
     "metadata": {},
     "output_type": "execute_result"
    }
   ],
   "source": [
    "data.Lot_Frontage.isnull().sum()"
   ]
  },
  {
   "cell_type": "code",
   "execution_count": 43,
   "metadata": {},
   "outputs": [
    {
     "data": {
      "text/plain": [
       "(2051, 103)"
      ]
     },
     "execution_count": 43,
     "metadata": {},
     "output_type": "execute_result"
    }
   ],
   "source": [
    "data.shape"
   ]
  },
  {
   "cell_type": "code",
   "execution_count": 45,
   "metadata": {},
   "outputs": [
    {
     "data": {
      "text/plain": [
       "array([[<matplotlib.axes._subplots.AxesSubplot object at 0x7f6e33a48a90>]], dtype=object)"
      ]
     },
     "execution_count": 45,
     "metadata": {},
     "output_type": "execute_result"
    },
    {
     "data": {
      "image/png": "[encoded data removed]",
      "text/plain": [
       "<matplotlib.figure.Figure at 0x7f6e312175f8>"
      ]
     },
     "metadata": {},
     "output_type": "display_data"
    }
   ],
   "source": [
    "data.hist('Lot_Frontage', bins=20)"
   ]
  },
  {
   "cell_type": "code",
   "execution_count": null,
   "metadata": {
    "collapsed": true
   },
   "outputs": [],
   "source": [
    "data."
   ]
  },
  {
   "cell_type": "code",
   "execution_count": 220,
   "metadata": {},
   "outputs": [
    {
     "name": "stderr",
     "output_type": "stream",
     "text": [
      "/home/thomas/anaconda3/lib/python3.6/site-packages/scipy/stats/stats.py:253: RuntimeWarning: The input array could not be properly checked for nan values. nan values will be ignored.\n",
      "  \"values. nan values will be ignored.\", RuntimeWarning)\n"
     ]
    },
    {
     "name": "stdout",
     "output_type": "stream",
     "text": [
      "column : Total_Bsmt_SF, strategy : mean, value : 1057.9878048780488\n",
      "           SalePrice\n",
      "SalePrice        1.0\n"
     ]
    }
   ],
   "source": [
    "data = ct.make_clean()\n",
    "cols = [c for c in data.columns if (c == 'SalePrice') or ('Heating' in c)]\n",
    "corr = data[cols].corr()\n",
    "\n",
    "print(corr)\n",
    "#f, ax = plt.subplots(figsize=(15,10))\n",
    "#sns.heatmap(corr, annot=True, fmt='.2g', ax=ax)"
   ]
  },
  {
   "cell_type": "code",
   "execution_count": null,
   "metadata": {
    "collapsed": true
   },
   "outputs": [],
   "source": [
    "# Setting consistent seed for everything random\n",
    "seed = 42"
   ]
  },
  {
   "cell_type": "code",
   "execution_count": null,
   "metadata": {
    "collapsed": true
   },
   "outputs": [],
   "source": [
    "# Functions to load and clean data\n",
    "# Ultimately useless, but convenient while trying different things.\n",
    "\n",
    "# Load data\n",
    "def load_data():\n",
    "    # Load training data\n",
    "    train = pd.read_csv('../data/train.csv')\n",
    "\n",
    "    # Replace spaces with underscores in column names\n",
    "    train.columns = [c.replace(' ', '_') for c in train.columns]\n",
    "    return train\n",
    "\n",
    "# Clean data\n",
    "# These functions are things I do as I go along.\n",
    "# I add them here in case I mess something up.  \n",
    "# Keeps me from having to rerun all the cells.\n",
    "def make_clean(del_corr=None) :\n",
    "\n",
    "    # Load data\n",
    "    train = load_data()\n",
    "    \n",
    "    # Make dummy variables for MS_SubClass\n",
    "    dummies = pd.get_dummies(train.MS_SubClass, prefix='MS_SubClass')\n",
    "    train = pd.concat([train, dummies])\n",
    "    train.drop('MS_SubClass', axis=1, inplace=True)\n",
    "    \n",
    "    \n",
    "    # Pool\n",
    "    # Turn into dummy column has_pool = 0, 1\n",
    "    # drop Pool_Area, and Pool_QC columns\n",
    "    train['has_pool'] = train['Pool_Area'].apply(lambda x: 0 if x == 0.0 else 1)\n",
    "    train.drop(['Pool_Area', 'Pool_QC'], axis=1, inplace=True)\n",
    "    \n",
    "    # Fence \n",
    "    # Turn into dummy column has_fence = 0, 1\n",
    "    # drop Fence column    \n",
    "    train['Fence'].fillna('None', inplace=True)\n",
    "    train['has_fence'] = train['Fence'].apply(lambda x: 1 if x == 'None' else 0)\n",
    "    train.drop(['Fence'], axis=1, inplace=True)\n",
    "    \n",
    "    # Sale Condition\n",
    "    # Turn into dummy column for partial sell = 0, 1\n",
    "    # Drop Sale Condition column\n",
    "    train['partial_sale'] = train['Sale_Condition'].apply(lambda x: 1 if x == 'Partial' else 0)\n",
    "    train.drop('Sale_Condition', axis=1, inplace=True)\n",
    "    \n",
    "    # Remove any value with correlation to SalePrice less than 0.3 (except ID which we need for later)\n",
    "    if (del_corr != None):\n",
    "        for k, v in train.corr()['SalePrice'].items():\n",
    "            if (abs(v) < del_corr) and (k != 'Id'):\n",
    "                train.drop(k, axis=1, inplace=True)\n",
    "\n",
    "    return train\n",
    "\n",
    "train = load_data()"
   ]
  },
  {
   "cell_type": "code",
   "execution_count": null,
   "metadata": {},
   "outputs": [],
   "source": [
    "print(train.shape)"
   ]
  },
  {
   "cell_type": "code",
   "execution_count": null,
   "metadata": {},
   "outputs": [],
   "source": [
    "ct.dummy_drop(load_data(), 'MS_SubClass', prefix='MS_SubClass')"
   ]
  },
  {
   "cell_type": "code",
   "execution_count": null,
   "metadata": {},
   "outputs": [],
   "source": [
    "%reload_ext cleaning_tools"
   ]
  },
  {
   "cell_type": "code",
   "execution_count": null,
   "metadata": {},
   "outputs": [],
   "source": [
    "dummies = pd.get_dummies(train.MS_SubClass, prefix='MS_SubClass')\n",
    "train = pd.concat([train, dummies])\n",
    "train.drop('MS_SubClass', axis=1, inplace=True)"
   ]
  },
  {
   "cell_type": "markdown",
   "metadata": {},
   "source": [
    "### Preprocessing"
   ]
  },
  {
   "cell_type": "code",
   "execution_count": null,
   "metadata": {},
   "outputs": [],
   "source": [
    "# As a Swimmier, pool caught my attention, so I'll start there :\n",
    "print(train['Pool_QC'].value_counts())\n",
    "\n",
    "# Only 9 houses with pool.  I think it might have some effect on SalePrice,\n",
    "# but I don't think we have enough data to say anything with statistical significance.\n",
    "# So let's just include a bool column : has_pool, and drop the other Pool related columns. \n",
    "# (Probably Won't use it in the end though)\n",
    "train['has_pool'] = train['Pool_Area'].apply(lambda x: 0 if x == 0.0 else 1)\n",
    "train.drop(['Pool_Area', 'Pool_QC'], axis=1, inplace=True)\n",
    "\n",
    "sns.barplot(x='has_pool', y='SalePrice', data=train)"
   ]
  },
  {
   "cell_type": "code",
   "execution_count": null,
   "metadata": {
    "scrolled": false
   },
   "outputs": [],
   "source": [
    "# Fences : \n",
    "train = load_data()\n",
    "train['Fence'].fillna('None', inplace=True)\n",
    "print(train['Fence'].value_counts())\n",
    "\n",
    "f, ax = plt.subplots(figsize=(7, 5))\n",
    "sns.barplot(x='Fence', y='SalePrice', data=train, ax=ax)\n",
    "plt.show()\n",
    "\n",
    "# Seems like most properties don't have a fence, but the spread on it seems low.\n",
    "# Like for the pool, I'll just make a has_fence column.  May or may not be useful.\n",
    "train['has_fence'] = train['Fence'].apply(lambda x: 1 if x == 'None' else 0)\n",
    "train.drop(['Fence'], axis=1, inplace=True)\n",
    "\n",
    "f, ax = plt.subplots(figsize=(7, 5))\n",
    "sns.barplot(x='has_fence', y='SalePrice', data=train, ax=ax)\n",
    "plt.show()\n",
    "\n",
    "train = make_clean()\n",
    "train.head()"
   ]
  },
  {
   "cell_type": "code",
   "execution_count": null,
   "metadata": {},
   "outputs": [],
   "source": [
    "train = make_clean()\n",
    "\n",
    "# Sale Condition\n",
    "print(train['Sale_Condition'].value_counts())\n",
    "\n",
    "f, ax = plt.subplots(figsize=(7, 5))\n",
    "sns.barplot(x='Sale_Condition', y='SalePrice', data=train, ax=ax)\n",
    "plt.show()\n",
    "\n",
    "# Seems like PartialSale is what has biggest effect on sale price, make bool col : partial_sale\n",
    "train['partial_sale'] = train['Sale_Condition'].apply(lambda x: 1 if x == 'Partial' else 0)\n",
    "train.drop('Sale_Condition', axis=1, inplace=True)\n",
    "\n",
    "f, ax = plt.subplots(figsize=(7, 5))\n",
    "sns.barplot(x='partial_sale', y='SalePrice', data=train, ax=ax)\n",
    "plt.show()\n",
    "\n",
    "train.head()"
   ]
  },
  {
   "cell_type": "markdown",
   "metadata": {},
   "source": [
    "## EDA"
   ]
  },
  {
   "cell_type": "code",
   "execution_count": null,
   "metadata": {},
   "outputs": [],
   "source": [
    "train = make_clean()\n",
    "# Correlation Matrix \n",
    "corr = train.corr()\n",
    "\n",
    "mask = np.zeros_like(corr)\n",
    "mask[np.triu_indices_from(corr)] = True\n",
    "\n",
    "f, ax = plt.subplots(figsize=(20,12))\n",
    "sns.heatmap(corr, mask=mask)"
   ]
  },
  {
   "cell_type": "markdown",
   "metadata": {},
   "source": [
    "Well there are way too many variables for this to make any sense.  Since we're focusing on SalePrice, right now, let's just show the correlations with that variable."
   ]
  },
  {
   "cell_type": "code",
   "execution_count": null,
   "metadata": {},
   "outputs": [],
   "source": [
    "# Barplot of feature correlations to SalePrice\n",
    "train = make_clean()\n",
    "predictors = [c for c in train.columns if c not in ['SalePrice', 'Id', 'PID']]\n",
    "\n",
    "corr = train.corr()\n",
    "\n",
    "f, ax = plt.subplots(figsize=(15,5))\n",
    "corr.plot(x = corr.columns, y='SalePrice', kind='bar', ax=ax)\n",
    "ax.set_ylabel('Correlation to Sale Price')\n",
    "ax.legend()"
   ]
  },
  {
   "cell_type": "code",
   "execution_count": null,
   "metadata": {},
   "outputs": [],
   "source": [
    "# Only look at features with a correlation of abs(0.3) or higher :\n",
    "train = make_clean(del_corr=0.3)\n",
    "predictors = [c for c in train.columns if c not in ['SalePrice', 'Id', 'PID']]\n",
    "\n",
    "corr = train.corr()\n",
    "\n",
    "f, ax = plt.subplots(figsize=(15,5))\n",
    "corr.plot(x = corr.columns, y='SalePrice', kind='bar', ax=ax)\n",
    "ax.set_ylabel('Correlation to Sale Price')\n",
    "ax.legend()"
   ]
  },
  {
   "cell_type": "markdown",
   "metadata": {},
   "source": [
    "It got rid of Pool.... =("
   ]
  },
  {
   "cell_type": "markdown",
   "metadata": {},
   "source": [
    "We can take a look at some plots with highly correlated features :"
   ]
  },
  {
   "cell_type": "code",
   "execution_count": null,
   "metadata": {},
   "outputs": [],
   "source": [
    "train = make_clean()\n",
    "\n",
    "f, [(ax1, ax2), (ax3, ax4)] = plt.subplots(nrows=2, ncols=2, figsize=(15,15), sharey=True)\n",
    "sns.boxplot(x='Overall_Qual', y='SalePrice', data=train, ax=ax1)\n",
    "sns.regplot(x='Gr_Liv_Area', y='SalePrice', data=train, ax=ax2)\n",
    "sns.regplot(x='Garage_Area', y='SalePrice', data=train, ax=ax3)\n",
    "sns.regplot(x='1st_Flr_SF', y='SalePrice', data=train, ax=ax4)"
   ]
  },
  {
   "cell_type": "markdown",
   "metadata": {},
   "source": [
    "## Picking Features"
   ]
  },
  {
   "cell_type": "code",
   "execution_count": null,
   "metadata": {
    "collapsed": true
   },
   "outputs": [],
   "source": [
    "def predictors(df):\n",
    "    p = []\n",
    "    for k, v in df.corr()['SalePrice'].items():\n",
    "        if k in ['Id', 'PID', 'SalePrice']:\n",
    "            print(k)\n",
    "#         if (k not in ['Id', 'PID', 'SalePrice']):\n",
    "#             p.append(k) \n",
    "\n",
    "    return p"
   ]
  },
  {
   "cell_type": "code",
   "execution_count": null,
   "metadata": {},
   "outputs": [],
   "source": [
    "train = make_clean()\n",
    "X = train[predictors(train)]\n",
    "X.head()\n",
    "y = train['SalePrice'].values"
   ]
  },
  {
   "cell_type": "code",
   "execution_count": null,
   "metadata": {
    "collapsed": true
   },
   "outputs": [],
   "source": [
    "X_train, X_test, y_train, y_test = train_test_split(X, y, random_state=seed, test_size=0.2)"
   ]
  },
  {
   "cell_type": "code",
   "execution_count": null,
   "metadata": {},
   "outputs": [],
   "source": [
    "train = load_data()\n",
    "print(train.shape)\n",
    "\n",
    "train = make_clean()\n",
    "print(train.shape)\n",
    "\n",
    "X = train[predictors(train)]\n",
    "print(X.shape)\n",
    "\n",
    "print(len(predictors(train)))"
   ]
  },
  {
   "cell_type": "markdown",
   "metadata": {},
   "source": [
    "There are still a lot of null values.  I need to see which ones have null values specifially and whether or not\n",
    "they're numerical values."
   ]
  },
  {
   "cell_type": "code",
   "execution_count": null,
   "metadata": {},
   "outputs": [],
   "source": [
    "for k,v in train.isnull().sum().items():\n",
    "    if (v != 0):\n",
    "        print(k, v, type(v))"
   ]
  },
  {
   "cell_type": "markdown",
   "metadata": {},
   "source": [
    "Well, good news, there are all numeric, so we can apply the same strategy when imputing.  I am not sure what the best strategy is here, so I guess I'll go with **median** for now, and maybe change it later to see if I get better results.  "
   ]
  },
  {
   "cell_type": "code",
   "execution_count": null,
   "metadata": {},
   "outputs": [],
   "source": [
    "X.shape"
   ]
  },
  {
   "cell_type": "code",
   "execution_count": null,
   "metadata": {},
   "outputs": [],
   "source": [
    "imputer = Imputer(strategy='median')\n",
    "X_imp = imputer.fit_transform(X)\n",
    "print(type(X_imp))"
   ]
  },
  {
   "cell_type": "code",
   "execution_count": null,
   "metadata": {},
   "outputs": [],
   "source": [
    "len(X.dtypes)"
   ]
  },
  {
   "cell_type": "code",
   "execution_count": null,
   "metadata": {},
   "outputs": [],
   "source": [
    "train = load_data()\n",
    "train['MS_Zoning']"
   ]
  },
  {
   "cell_type": "code",
   "execution_count": null,
   "metadata": {},
   "outputs": [],
   "source": [
    "data = load_data()\n",
    "for k, v in data.isnull().sum().items():\n",
    "    if( v != 0):\n",
    "        print(k, v, type(v))"
   ]
  },
  {
   "cell_type": "code",
   "execution_count": null,
   "metadata": {},
   "outputs": [],
   "source": [
    "for c in data.columns :\n",
    "    data.fillna(data[c].mean)"
   ]
  },
  {
   "cell_type": "code",
   "execution_count": null,
   "metadata": {},
   "outputs": [],
   "source": [
    "data"
   ]
  }
 ],
 "metadata": {
  "kernelspec": {
   "display_name": "Python 3",
   "language": "python",
   "name": "python3"
  },
  "language_info": {
   "codemirror_mode": {
    "name": "ipython",
    "version": 3
   },
   "file_extension": ".py",
   "mimetype": "text/x-python",
   "name": "python",
   "nbconvert_exporter": "python",
   "pygments_lexer": "ipython3",
   "version": "3.6.1"
  }
 },
 "nbformat": 4,
 "nbformat_minor": 2
}
